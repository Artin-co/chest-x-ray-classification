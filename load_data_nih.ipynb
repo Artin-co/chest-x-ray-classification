{
 "cells": [
  {
   "cell_type": "markdown",
   "metadata": {},
   "source": [
    "# Dataset description\n",
    "### NIH Chest X-ray Dataset"
   ]
  },
  {
   "cell_type": "markdown",
   "metadata": {},
   "source": [
    "<h2> Problem </h2>\n",
    "\n",
    "Chest X-ray exams are among the most commonly conducted and least expensive imaging procedures available today.\n",
    "However, the clinical diagnosis of a chest radiograph is complicated and often more complex than a chest CT scan.\n",
    "To a large degree, clinical identification and evaluation is yet unachievable due to the lack of widely accessible datasets for chest X-rays. Once you have a huge dataset of X-ray files, you're usually left lacking in resources to mark it.\n",
    "Prior to the availability of this dataset, the number of publicly accessible X-ray images was 4,143."
   ]
  },
  {
   "cell_type": "markdown",
   "metadata": {},
   "source": [
    "This NIH dataset consist of 112,120 disease labels from 3,805 unique patients with size 1024 x 1024.\n",
    "\n",
    "Image labels may contain some inaccuracies, but the estimated NLP labeling accuracy is determined to be higher than 90%.\n",
    "\n",
    "\n",
    "**BBox_list_2017.csv: **Bounding box coordinates. Note: Start at x,y, extend horizontally w pixels, and vertically h pixels\n",
    "\n",
    "- Image Index: File name\n",
    "- Finding Label: Disease type (Class label)\n",
    "- Bbox x\n",
    "- Bbox y\n",
    "- Bbox w\n",
    "- Bbox h\n",
    "\n",
    "\n",
    "**Data_entry_2020.csv:** Class labels and patient data for the entire dataset\n",
    "- Image Index: File name\n",
    "- Finding Labels: Disease type (Class label)\n",
    "- Follow-up #\n",
    "- Patient ID\n",
    "- Patient Age\n",
    "- Patient Gender\n",
    "- View Position: X-ray orientation\n",
    "- OriginalImageWidth\n",
    "- OriginalImageHeight\n",
    "- OriginalImagePixelSpacing_x\n",
    "- OriginalImagePixelSpacing_y\n",
    "\n",
    "\n",
    "**Class descriptions**\n",
    "\n",
    "There are 15 classes (14 diseases, and one for \"No findings\" or normal). Images can be classified as \"No findings\" or one or more disease classes:\n",
    "\n",
    "- Atelectasis\n",
    "- Consolidation\n",
    "- Infiltration\n",
    "- Pneumothorax\n",
    "- Edema\n",
    "- Emphysema\n",
    "- Fibrosis\n",
    "- Effusion\n",
    "- Pneumonia\n",
    "- Pleural_thickening\n",
    "- Cardiomegaly\n",
    "-  Nodule Mass\n",
    "-  Hernia\n"
   ]
  },
  {
   "cell_type": "markdown",
   "metadata": {},
   "source": [
    "# Importing the libraries"
   ]
  },
  {
   "cell_type": "code",
   "execution_count": 1,
   "metadata": {},
   "outputs": [],
   "source": [
    "import pandas as pd\n",
    "from itertools import chain\n",
    "import numpy as np\n",
    "import tensorflow as tf \n",
    "import matplotlib.pyplot as plt"
   ]
  },
  {
   "cell_type": "markdown",
   "metadata": {},
   "source": [
    "# Classes"
   ]
  },
  {
   "cell_type": "code",
   "execution_count": 2,
   "metadata": {},
   "outputs": [],
   "source": [
    "class Info_Class:\n",
    "    def __init__(self, pathologies, class_weights, target_size, steps_per_epoch, validation_steps):\n",
    "        self.pathologies      = pathologies\n",
    "        self.class_weights    = class_weights\n",
    "        self.target_size      = target_size\n",
    "        self.steps_per_epoch  = steps_per_epoch\n",
    "        self.validation_steps = validation_steps"
   ]
  },
  {
   "cell_type": "markdown",
   "metadata": {},
   "source": [
    "## Reading the csv tables"
   ]
  },
  {
   "cell_type": "code",
   "execution_count": 3,
   "metadata": {},
   "outputs": [
    {
     "data": {
      "text/html": [
       "<div>\n",
       "<style scoped>\n",
       "    .dataframe tbody tr th:only-of-type {\n",
       "        vertical-align: middle;\n",
       "    }\n",
       "\n",
       "    .dataframe tbody tr th {\n",
       "        vertical-align: top;\n",
       "    }\n",
       "\n",
       "    .dataframe thead th {\n",
       "        text-align: right;\n",
       "    }\n",
       "</style>\n",
       "<table border=\"1\" class=\"dataframe\">\n",
       "  <thead>\n",
       "    <tr style=\"text-align: right;\">\n",
       "      <th></th>\n",
       "      <th>Image Index</th>\n",
       "      <th>Finding Labels</th>\n",
       "      <th>Follow-up #</th>\n",
       "      <th>Patient ID</th>\n",
       "      <th>Patient Age</th>\n",
       "      <th>Patient Gender</th>\n",
       "      <th>View Position</th>\n",
       "      <th>OriginalImage[Width</th>\n",
       "      <th>Height]</th>\n",
       "      <th>OriginalImagePixelSpacing[x</th>\n",
       "      <th>y]</th>\n",
       "    </tr>\n",
       "  </thead>\n",
       "  <tbody>\n",
       "    <tr>\n",
       "      <th>0</th>\n",
       "      <td>00000001_000.png</td>\n",
       "      <td>Cardiomegaly</td>\n",
       "      <td>0</td>\n",
       "      <td>1</td>\n",
       "      <td>57</td>\n",
       "      <td>M</td>\n",
       "      <td>PA</td>\n",
       "      <td>2682</td>\n",
       "      <td>2749</td>\n",
       "      <td>0.143</td>\n",
       "      <td>0.143</td>\n",
       "    </tr>\n",
       "    <tr>\n",
       "      <th>1</th>\n",
       "      <td>00000001_001.png</td>\n",
       "      <td>Cardiomegaly|Emphysema</td>\n",
       "      <td>1</td>\n",
       "      <td>1</td>\n",
       "      <td>58</td>\n",
       "      <td>M</td>\n",
       "      <td>PA</td>\n",
       "      <td>2894</td>\n",
       "      <td>2729</td>\n",
       "      <td>0.143</td>\n",
       "      <td>0.143</td>\n",
       "    </tr>\n",
       "    <tr>\n",
       "      <th>2</th>\n",
       "      <td>00000001_002.png</td>\n",
       "      <td>Cardiomegaly|Effusion</td>\n",
       "      <td>2</td>\n",
       "      <td>1</td>\n",
       "      <td>58</td>\n",
       "      <td>M</td>\n",
       "      <td>PA</td>\n",
       "      <td>2500</td>\n",
       "      <td>2048</td>\n",
       "      <td>0.168</td>\n",
       "      <td>0.168</td>\n",
       "    </tr>\n",
       "    <tr>\n",
       "      <th>3</th>\n",
       "      <td>00000002_000.png</td>\n",
       "      <td>No Finding</td>\n",
       "      <td>0</td>\n",
       "      <td>2</td>\n",
       "      <td>80</td>\n",
       "      <td>M</td>\n",
       "      <td>PA</td>\n",
       "      <td>2500</td>\n",
       "      <td>2048</td>\n",
       "      <td>0.171</td>\n",
       "      <td>0.171</td>\n",
       "    </tr>\n",
       "    <tr>\n",
       "      <th>4</th>\n",
       "      <td>00000003_001.png</td>\n",
       "      <td>Hernia</td>\n",
       "      <td>0</td>\n",
       "      <td>3</td>\n",
       "      <td>74</td>\n",
       "      <td>F</td>\n",
       "      <td>PA</td>\n",
       "      <td>2500</td>\n",
       "      <td>2048</td>\n",
       "      <td>0.168</td>\n",
       "      <td>0.168</td>\n",
       "    </tr>\n",
       "  </tbody>\n",
       "</table>\n",
       "</div>"
      ],
      "text/plain": [
       "        Image Index          Finding Labels  Follow-up #  Patient ID  \\\n",
       "0  00000001_000.png            Cardiomegaly            0           1   \n",
       "1  00000001_001.png  Cardiomegaly|Emphysema            1           1   \n",
       "2  00000001_002.png   Cardiomegaly|Effusion            2           1   \n",
       "3  00000002_000.png              No Finding            0           2   \n",
       "4  00000003_001.png                  Hernia            0           3   \n",
       "\n",
       "   Patient Age Patient Gender View Position  OriginalImage[Width  Height]  \\\n",
       "0           57              M            PA                 2682     2749   \n",
       "1           58              M            PA                 2894     2729   \n",
       "2           58              M            PA                 2500     2048   \n",
       "3           80              M            PA                 2500     2048   \n",
       "4           74              F            PA                 2500     2048   \n",
       "\n",
       "   OriginalImagePixelSpacing[x     y]  \n",
       "0                        0.143  0.143  \n",
       "1                        0.143  0.143  \n",
       "2                        0.168  0.168  \n",
       "3                        0.171  0.171  \n",
       "4                        0.168  0.168  "
      ]
     },
     "execution_count": 3,
     "metadata": {},
     "output_type": "execute_result"
    }
   ],
   "source": [
    "# dir = '/Users/artinmac/GoogleDrive/RESEARCH/projects/Data7.chest_xray'\n",
    "dir = '/groups/jjrodrig/projects/chest/dataset/nih'\n",
    "\n",
    "all_data       = pd.read_csv(dir + '/files/Data_Entry_2017_v2020.csv')\n",
    "test_list      = pd.read_csv(dir + '/files/test_list.txt',names=['Image Index'])\n",
    "\n",
    "all_data.head()"
   ]
  },
  {
   "cell_type": "code",
   "execution_count": 4,
   "metadata": {},
   "outputs": [
    {
     "data": {
      "text/html": [
       "<div>\n",
       "<style scoped>\n",
       "    .dataframe tbody tr th:only-of-type {\n",
       "        vertical-align: middle;\n",
       "    }\n",
       "\n",
       "    .dataframe tbody tr th {\n",
       "        vertical-align: top;\n",
       "    }\n",
       "\n",
       "    .dataframe thead th {\n",
       "        text-align: right;\n",
       "    }\n",
       "</style>\n",
       "<table border=\"1\" class=\"dataframe\">\n",
       "  <thead>\n",
       "    <tr style=\"text-align: right;\">\n",
       "      <th></th>\n",
       "      <th>Follow-up #</th>\n",
       "      <th>Patient ID</th>\n",
       "      <th>Patient Age</th>\n",
       "      <th>OriginalImage[Width</th>\n",
       "      <th>Height]</th>\n",
       "      <th>OriginalImagePixelSpacing[x</th>\n",
       "      <th>y]</th>\n",
       "    </tr>\n",
       "  </thead>\n",
       "  <tbody>\n",
       "    <tr>\n",
       "      <th>count</th>\n",
       "      <td>112120.000000</td>\n",
       "      <td>112120.000000</td>\n",
       "      <td>112120.000000</td>\n",
       "      <td>112120.000000</td>\n",
       "      <td>112120.000000</td>\n",
       "      <td>112120.000000</td>\n",
       "      <td>112120.000000</td>\n",
       "    </tr>\n",
       "    <tr>\n",
       "      <th>mean</th>\n",
       "      <td>8.573751</td>\n",
       "      <td>14346.381743</td>\n",
       "      <td>46.626365</td>\n",
       "      <td>2646.078844</td>\n",
       "      <td>2486.438842</td>\n",
       "      <td>0.155649</td>\n",
       "      <td>0.155649</td>\n",
       "    </tr>\n",
       "    <tr>\n",
       "      <th>std</th>\n",
       "      <td>15.406320</td>\n",
       "      <td>8403.876972</td>\n",
       "      <td>16.602680</td>\n",
       "      <td>341.246429</td>\n",
       "      <td>401.268227</td>\n",
       "      <td>0.016174</td>\n",
       "      <td>0.016174</td>\n",
       "    </tr>\n",
       "    <tr>\n",
       "      <th>min</th>\n",
       "      <td>0.000000</td>\n",
       "      <td>1.000000</td>\n",
       "      <td>0.000000</td>\n",
       "      <td>1143.000000</td>\n",
       "      <td>966.000000</td>\n",
       "      <td>0.115000</td>\n",
       "      <td>0.115000</td>\n",
       "    </tr>\n",
       "    <tr>\n",
       "      <th>25%</th>\n",
       "      <td>0.000000</td>\n",
       "      <td>7310.750000</td>\n",
       "      <td>34.000000</td>\n",
       "      <td>2500.000000</td>\n",
       "      <td>2048.000000</td>\n",
       "      <td>0.143000</td>\n",
       "      <td>0.143000</td>\n",
       "    </tr>\n",
       "    <tr>\n",
       "      <th>50%</th>\n",
       "      <td>3.000000</td>\n",
       "      <td>13993.000000</td>\n",
       "      <td>49.000000</td>\n",
       "      <td>2518.000000</td>\n",
       "      <td>2544.000000</td>\n",
       "      <td>0.143000</td>\n",
       "      <td>0.143000</td>\n",
       "    </tr>\n",
       "    <tr>\n",
       "      <th>75%</th>\n",
       "      <td>10.000000</td>\n",
       "      <td>20673.000000</td>\n",
       "      <td>59.000000</td>\n",
       "      <td>2992.000000</td>\n",
       "      <td>2991.000000</td>\n",
       "      <td>0.168000</td>\n",
       "      <td>0.168000</td>\n",
       "    </tr>\n",
       "    <tr>\n",
       "      <th>max</th>\n",
       "      <td>183.000000</td>\n",
       "      <td>30805.000000</td>\n",
       "      <td>95.000000</td>\n",
       "      <td>3827.000000</td>\n",
       "      <td>4715.000000</td>\n",
       "      <td>0.198800</td>\n",
       "      <td>0.198800</td>\n",
       "    </tr>\n",
       "  </tbody>\n",
       "</table>\n",
       "</div>"
      ],
      "text/plain": [
       "         Follow-up #     Patient ID    Patient Age  OriginalImage[Width  \\\n",
       "count  112120.000000  112120.000000  112120.000000        112120.000000   \n",
       "mean        8.573751   14346.381743      46.626365          2646.078844   \n",
       "std        15.406320    8403.876972      16.602680           341.246429   \n",
       "min         0.000000       1.000000       0.000000          1143.000000   \n",
       "25%         0.000000    7310.750000      34.000000          2500.000000   \n",
       "50%         3.000000   13993.000000      49.000000          2518.000000   \n",
       "75%        10.000000   20673.000000      59.000000          2992.000000   \n",
       "max       183.000000   30805.000000      95.000000          3827.000000   \n",
       "\n",
       "             Height]  OriginalImagePixelSpacing[x             y]  \n",
       "count  112120.000000                112120.000000  112120.000000  \n",
       "mean     2486.438842                     0.155649       0.155649  \n",
       "std       401.268227                     0.016174       0.016174  \n",
       "min       966.000000                     0.115000       0.115000  \n",
       "25%      2048.000000                     0.143000       0.143000  \n",
       "50%      2544.000000                     0.143000       0.143000  \n",
       "75%      2991.000000                     0.168000       0.168000  \n",
       "max      4715.000000                     0.198800       0.198800  "
      ]
     },
     "execution_count": 4,
     "metadata": {},
     "output_type": "execute_result"
    }
   ],
   "source": [
    "all_data.describe()"
   ]
  },
  {
   "cell_type": "code",
   "execution_count": 5,
   "metadata": {},
   "outputs": [
    {
     "data": {
      "image/png": "[encoded data removed]",
      "text/plain": [
       "<Figure size 864x576 with 1 Axes>"
      ]
     },
     "metadata": {
      "needs_background": "light"
     },
     "output_type": "display_data"
    }
   ],
   "source": [
    "label_counts = all_data['Finding Labels'].value_counts()[:15]\n",
    "fig, ax1 = plt.subplots(1,1,figsize = (12, 8))\n",
    "ax1.bar(np.arange(len(label_counts))+0.5, label_counts)\n",
    "ax1.set_xticks(np.arange(len(label_counts))+0.5)\n",
    "_ = ax1.set_xticklabels(label_counts.index, rotation = 90)"
   ]
  },
  {
   "cell_type": "markdown",
   "metadata": {},
   "source": [
    "## Writing the relative path"
   ]
  },
  {
   "cell_type": "code",
   "execution_count": 6,
   "metadata": {},
   "outputs": [],
   "source": [
    "all_data['Path'] = all_data['Image Index'].map(lambda x: 'data/' + x)"
   ]
  },
  {
   "cell_type": "markdown",
   "metadata": {},
   "source": [
    "## Finding the list of all studied pathologies"
   ]
  },
  {
   "cell_type": "code",
   "execution_count": 7,
   "metadata": {},
   "outputs": [],
   "source": [
    "all_data['Finding Labels'] = all_data['Finding Labels'].replace('No Finding','normal').map(lambda x: x.split('|'))\n",
    "pathologies = set(list(chain(*all_data['Finding Labels'])))\n",
    "# pathologies.discard('')   "
   ]
  },
  {
   "cell_type": "markdown",
   "metadata": {},
   "source": [
    "## Overwriting the order of pathologeis"
   ]
  },
  {
   "cell_type": "code",
   "execution_count": 8,
   "metadata": {},
   "outputs": [],
   "source": [
    "pathologies = ['normal', 'Pneumonia', 'Mass', 'Pneumothorax', 'Pleural_Thickening', 'Edema', 'Cardiomegaly', 'Emphysema', 'Effusion', 'Consolidation', 'Nodule', 'Infiltration', 'Atelectasis', 'Fibrosis']"
   ]
  },
  {
   "cell_type": "markdown",
   "metadata": {},
   "source": [
    "## Creating the pathology based columns"
   ]
  },
  {
   "cell_type": "code",
   "execution_count": 9,
   "metadata": {},
   "outputs": [],
   "source": [
    "for name in pathologies:\n",
    "    all_data[name] = all_data['Finding Labels'].map(lambda x: 1 if name in x else 0)"
   ]
  },
  {
   "cell_type": "markdown",
   "metadata": {},
   "source": [
    "## Creating the disease vectors"
   ]
  },
  {
   "cell_type": "code",
   "execution_count": 10,
   "metadata": {},
   "outputs": [],
   "source": [
    "all_data['disease_vector'] = all_data[pathologies].values.tolist()\n",
    "all_data['disease_vector'] = all_data['disease_vector'].map(lambda x: np.array(x))  \n",
    "   "
   ]
  },
  {
   "cell_type": "code",
   "execution_count": 11,
   "metadata": {},
   "outputs": [
    {
     "data": {
      "text/plain": [
       "array([0, 0, 0, 0, 0, 0, 1, 0, 0, 0, 0, 0, 0, 0])"
      ]
     },
     "execution_count": 11,
     "metadata": {},
     "output_type": "execute_result"
    }
   ],
   "source": [
    "all_data['disease_vector'].iloc[0]"
   ]
  },
  {
   "cell_type": "markdown",
   "metadata": {},
   "source": [
    "## Removing unnecessary columns"
   ]
  },
  {
   "cell_type": "code",
   "execution_count": 12,
   "metadata": {},
   "outputs": [],
   "source": [
    "all_data = all_data.drop(columns=['OriginalImage[Width', 'Height]', 'OriginalImagePixelSpacing[x',\t'y]', 'Follow-up #'])"
   ]
  },
  {
   "cell_type": "markdown",
   "metadata": {},
   "source": [
    "## Selecting the pathologies with at least a minimum number of samples"
   ]
  },
  {
   "cell_type": "code",
   "execution_count": 13,
   "metadata": {},
   "outputs": [],
   "source": [
    "# MIN_CASES = 1000\n",
    "# pathologies = [name for name in pathologies if all_data[name].sum()>MIN_CASES]\n",
    "# print('Number of samples per class ({})'.format(len(pathologies)), \n",
    "#     [(name,int(all_data[name].sum())) for name in pathologies])"
   ]
  },
  {
   "cell_type": "markdown",
   "metadata": {},
   "source": [
    "## Resampling the dataset to make class occurrences more reasonable"
   ]
  },
  {
   "cell_type": "code",
   "execution_count": 14,
   "metadata": {},
   "outputs": [],
   "source": [
    "CASE_NUMBERS = 800\n",
    "sample_weights = all_data['Finding Labels'].map(lambda x: len(x) if len(x)>0 else 0).values + 4e-2\n",
    "sample_weights /= sample_weights.sum()\n",
    "all_data = all_data.sample(CASE_NUMBERS, weights=sample_weights)"
   ]
  },
  {
   "cell_type": "markdown",
   "metadata": {},
   "source": [
    "## Separating train validation test"
   ]
  },
  {
   "cell_type": "code",
   "execution_count": 15,
   "metadata": {},
   "outputs": [
    {
     "name": "stdout",
     "output_type": "stream",
     "text": [
      "train size: (474, 22)\n",
      "valid size: (119, 22)\n",
      "test size: (207, 22)\n"
     ]
    }
   ],
   "source": [
    "\n",
    "test      = all_data[all_data['Image Index'].isin(test_list['Image Index'])]\n",
    "train_val = all_data.drop(test.index)\n",
    "\n",
    "valid     = train_val.sample(frac=0.2)\n",
    "train     = train_val.drop(valid.index)\n",
    "\n",
    "print('train size:',train.shape)\n",
    "print('valid size:',valid.shape)\n",
    "print('test size:' ,test.shape)\n",
    "\n",
    "L = len(pathologies)\n",
    "class_weights = np.ones(L)/L\n",
    "    "
   ]
  },
  {
   "cell_type": "code",
   "execution_count": 16,
   "metadata": {},
   "outputs": [
    {
     "data": {
      "text/html": [
       "<div>\n",
       "<style scoped>\n",
       "    .dataframe tbody tr th:only-of-type {\n",
       "        vertical-align: middle;\n",
       "    }\n",
       "\n",
       "    .dataframe tbody tr th {\n",
       "        vertical-align: top;\n",
       "    }\n",
       "\n",
       "    .dataframe thead th {\n",
       "        text-align: right;\n",
       "    }\n",
       "</style>\n",
       "<table border=\"1\" class=\"dataframe\">\n",
       "  <thead>\n",
       "    <tr style=\"text-align: right;\">\n",
       "      <th></th>\n",
       "      <th>Image Index</th>\n",
       "      <th>Finding Labels</th>\n",
       "      <th>Patient ID</th>\n",
       "      <th>Patient Age</th>\n",
       "      <th>Patient Gender</th>\n",
       "      <th>View Position</th>\n",
       "      <th>Path</th>\n",
       "      <th>normal</th>\n",
       "      <th>Pneumonia</th>\n",
       "      <th>Mass</th>\n",
       "      <th>...</th>\n",
       "      <th>Edema</th>\n",
       "      <th>Cardiomegaly</th>\n",
       "      <th>Emphysema</th>\n",
       "      <th>Effusion</th>\n",
       "      <th>Consolidation</th>\n",
       "      <th>Nodule</th>\n",
       "      <th>Infiltration</th>\n",
       "      <th>Atelectasis</th>\n",
       "      <th>Fibrosis</th>\n",
       "      <th>disease_vector</th>\n",
       "    </tr>\n",
       "  </thead>\n",
       "  <tbody>\n",
       "    <tr>\n",
       "      <th>105346</th>\n",
       "      <td>00028300_001.png</td>\n",
       "      <td>[normal]</td>\n",
       "      <td>28300</td>\n",
       "      <td>16</td>\n",
       "      <td>M</td>\n",
       "      <td>AP</td>\n",
       "      <td>data/00028300_001.png</td>\n",
       "      <td>1</td>\n",
       "      <td>0</td>\n",
       "      <td>0</td>\n",
       "      <td>...</td>\n",
       "      <td>0</td>\n",
       "      <td>0</td>\n",
       "      <td>0</td>\n",
       "      <td>0</td>\n",
       "      <td>0</td>\n",
       "      <td>0</td>\n",
       "      <td>0</td>\n",
       "      <td>0</td>\n",
       "      <td>0</td>\n",
       "      <td>[1, 0, 0, 0, 0, 0, 0, 0, 0, 0, 0, 0, 0, 0]</td>\n",
       "    </tr>\n",
       "    <tr>\n",
       "      <th>50865</th>\n",
       "      <td>00012864_005.png</td>\n",
       "      <td>[Consolidation, Nodule]</td>\n",
       "      <td>12864</td>\n",
       "      <td>48</td>\n",
       "      <td>M</td>\n",
       "      <td>PA</td>\n",
       "      <td>data/00012864_005.png</td>\n",
       "      <td>0</td>\n",
       "      <td>0</td>\n",
       "      <td>0</td>\n",
       "      <td>...</td>\n",
       "      <td>0</td>\n",
       "      <td>0</td>\n",
       "      <td>0</td>\n",
       "      <td>0</td>\n",
       "      <td>1</td>\n",
       "      <td>1</td>\n",
       "      <td>0</td>\n",
       "      <td>0</td>\n",
       "      <td>0</td>\n",
       "      <td>[0, 0, 0, 0, 0, 0, 0, 0, 0, 1, 1, 0, 0, 0]</td>\n",
       "    </tr>\n",
       "    <tr>\n",
       "      <th>80296</th>\n",
       "      <td>00019733_001.png</td>\n",
       "      <td>[Atelectasis, Hernia]</td>\n",
       "      <td>19733</td>\n",
       "      <td>69</td>\n",
       "      <td>M</td>\n",
       "      <td>PA</td>\n",
       "      <td>data/00019733_001.png</td>\n",
       "      <td>0</td>\n",
       "      <td>0</td>\n",
       "      <td>0</td>\n",
       "      <td>...</td>\n",
       "      <td>0</td>\n",
       "      <td>0</td>\n",
       "      <td>0</td>\n",
       "      <td>0</td>\n",
       "      <td>0</td>\n",
       "      <td>0</td>\n",
       "      <td>0</td>\n",
       "      <td>1</td>\n",
       "      <td>0</td>\n",
       "      <td>[0, 0, 0, 0, 0, 0, 0, 0, 0, 0, 0, 0, 1, 0]</td>\n",
       "    </tr>\n",
       "    <tr>\n",
       "      <th>36214</th>\n",
       "      <td>00009566_000.png</td>\n",
       "      <td>[normal]</td>\n",
       "      <td>9566</td>\n",
       "      <td>50</td>\n",
       "      <td>F</td>\n",
       "      <td>PA</td>\n",
       "      <td>data/00009566_000.png</td>\n",
       "      <td>1</td>\n",
       "      <td>0</td>\n",
       "      <td>0</td>\n",
       "      <td>...</td>\n",
       "      <td>0</td>\n",
       "      <td>0</td>\n",
       "      <td>0</td>\n",
       "      <td>0</td>\n",
       "      <td>0</td>\n",
       "      <td>0</td>\n",
       "      <td>0</td>\n",
       "      <td>0</td>\n",
       "      <td>0</td>\n",
       "      <td>[1, 0, 0, 0, 0, 0, 0, 0, 0, 0, 0, 0, 0, 0]</td>\n",
       "    </tr>\n",
       "    <tr>\n",
       "      <th>45859</th>\n",
       "      <td>00011741_002.png</td>\n",
       "      <td>[normal]</td>\n",
       "      <td>11741</td>\n",
       "      <td>16</td>\n",
       "      <td>M</td>\n",
       "      <td>PA</td>\n",
       "      <td>data/00011741_002.png</td>\n",
       "      <td>1</td>\n",
       "      <td>0</td>\n",
       "      <td>0</td>\n",
       "      <td>...</td>\n",
       "      <td>0</td>\n",
       "      <td>0</td>\n",
       "      <td>0</td>\n",
       "      <td>0</td>\n",
       "      <td>0</td>\n",
       "      <td>0</td>\n",
       "      <td>0</td>\n",
       "      <td>0</td>\n",
       "      <td>0</td>\n",
       "      <td>[1, 0, 0, 0, 0, 0, 0, 0, 0, 0, 0, 0, 0, 0]</td>\n",
       "    </tr>\n",
       "  </tbody>\n",
       "</table>\n",
       "<p>5 rows × 22 columns</p>\n",
       "</div>"
      ],
      "text/plain": [
       "             Image Index           Finding Labels  Patient ID  Patient Age  \\\n",
       "105346  00028300_001.png                 [normal]       28300           16   \n",
       "50865   00012864_005.png  [Consolidation, Nodule]       12864           48   \n",
       "80296   00019733_001.png    [Atelectasis, Hernia]       19733           69   \n",
       "36214   00009566_000.png                 [normal]        9566           50   \n",
       "45859   00011741_002.png                 [normal]       11741           16   \n",
       "\n",
       "       Patient Gender View Position                   Path  normal  Pneumonia  \\\n",
       "105346              M            AP  data/00028300_001.png       1          0   \n",
       "50865               M            PA  data/00012864_005.png       0          0   \n",
       "80296               M            PA  data/00019733_001.png       0          0   \n",
       "36214               F            PA  data/00009566_000.png       1          0   \n",
       "45859               M            PA  data/00011741_002.png       1          0   \n",
       "\n",
       "        Mass  ...  Edema  Cardiomegaly  Emphysema  Effusion  Consolidation  \\\n",
       "105346     0  ...      0             0          0         0              0   \n",
       "50865      0  ...      0             0          0         0              1   \n",
       "80296      0  ...      0             0          0         0              0   \n",
       "36214      0  ...      0             0          0         0              0   \n",
       "45859      0  ...      0             0          0         0              0   \n",
       "\n",
       "        Nodule  Infiltration  Atelectasis  Fibrosis  \\\n",
       "105346       0             0            0         0   \n",
       "50865        1             0            0         0   \n",
       "80296        0             0            1         0   \n",
       "36214        0             0            0         0   \n",
       "45859        0             0            0         0   \n",
       "\n",
       "                                    disease_vector  \n",
       "105346  [1, 0, 0, 0, 0, 0, 0, 0, 0, 0, 0, 0, 0, 0]  \n",
       "50865   [0, 0, 0, 0, 0, 0, 0, 0, 0, 1, 1, 0, 0, 0]  \n",
       "80296   [0, 0, 0, 0, 0, 0, 0, 0, 0, 0, 0, 0, 1, 0]  \n",
       "36214   [1, 0, 0, 0, 0, 0, 0, 0, 0, 0, 0, 0, 0, 0]  \n",
       "45859   [1, 0, 0, 0, 0, 0, 0, 0, 0, 0, 0, 0, 0, 0]  \n",
       "\n",
       "[5 rows x 22 columns]"
      ]
     },
     "execution_count": 16,
     "metadata": {},
     "output_type": "execute_result"
    }
   ],
   "source": [
    "train.head()"
   ]
  },
  {
   "cell_type": "markdown",
   "metadata": {},
   "source": [
    "# Keras Genearator"
   ]
  },
  {
   "cell_type": "code",
   "execution_count": 17,
   "metadata": {},
   "outputs": [],
   "source": [
    "generator = tf.keras.preprocessing.image.ImageDataGenerator()\n",
    "\n",
    "target_size =  (224,224) # (64,64)  #\n",
    "class_mode='raw'\n",
    "color_mode = 'rgb'\n",
    "y_col = list(pathologies) #'disease_vector'\n",
    "batch_size=30"
   ]
  },
  {
   "cell_type": "markdown",
   "metadata": {},
   "source": [
    "## Train/Validation"
   ]
  },
  {
   "cell_type": "code",
   "execution_count": 18,
   "metadata": {},
   "outputs": [
    {
     "name": "stdout",
     "output_type": "stream",
     "text": [
      "Found 474 validated image filenames.\n",
      "Found 119 validated image filenames.\n"
     ]
    }
   ],
   "source": [
    "train_generator = generator.flow_from_dataframe(dataframe=train, x_col='Path', y_col=y_col,color_mode=color_mode,directory=dir, target_size=target_size, batch_size=10000, class_mode=class_mode, shuffle=False)\n",
    "\n",
    "valid_generator = generator.flow_from_dataframe(dataframe=valid, x_col='Path', y_col=y_col,color_mode=color_mode,directory=dir, target_size=target_size, batch_size=10000, class_mode=class_mode, shuffle=False)  \n",
    "\n",
    "(x_train, y_train) = next(train_generator)\n",
    "steps_per_epoch = int(x_train.shape[0]/batch_size)\n",
    "train_data = tf.data.Dataset.from_tensor_slices((x_train, y_train))\n",
    "train_data = train_data.repeat().batch(batch_size)\n",
    "\n",
    "\n",
    "(x_valid, y_valid) = next(valid_generator)\n",
    "validation_steps = int(x_valid.shape[0]/batch_size)\n",
    "valid_data = tf.data.Dataset.from_tensor_slices((x_valid, y_valid)) \n",
    "valid_data = valid_data.repeat().batch(batch_size)\n",
    "\n",
    "Info = Info_Class(pathologies, class_weights, target_size, steps_per_epoch, validation_steps)"
   ]
  },
  {
   "cell_type": "markdown",
   "metadata": {},
   "source": [
    "## Test"
   ]
  },
  {
   "cell_type": "code",
   "execution_count": 19,
   "metadata": {},
   "outputs": [
    {
     "name": "stdout",
     "output_type": "stream",
     "text": [
      "Found 207 validated image filenames.\n"
     ]
    }
   ],
   "source": [
    "test_generator = generator.flow_from_dataframe(dataframe=test, x_col='Path', y_col=y_col,color_mode=color_mode,directory=dir, target_size=target_size, batch_size=1, class_mode=class_mode, shuffle=False)\n",
    "\n",
    "Info = Info_Class(pathologies, class_weights, target_size, '', '')"
   ]
  },
  {
   "cell_type": "code",
   "execution_count": null,
   "metadata": {},
   "outputs": [],
   "source": []
  }
 ],
 "metadata": {
  "kernelspec": {
   "display_name": "Python 3.8.5 64-bit ('mlflow-xray': conda)",
   "language": "python",
   "name": "python385jvsc74a57bd0dd998473dbd4892f34807bf19aeea9c12a70ba84b1a5d02d168816cec7a7d398"
  },
  "language_info": {
   "codemirror_mode": {
    "name": "ipython",
    "version": 3
   },
   "file_extension": ".py",
   "mimetype": "text/x-python",
   "name": "python",
   "nbconvert_exporter": "python",
   "pygments_lexer": "ipython3",
   "version": "3.8.5"
  }
 },
 "nbformat": 4,
 "nbformat_minor": 2
}
